{
 "cells": [
  {
   "cell_type": "code",
   "execution_count": 1,
   "id": "11caab47-cb28-420e-8d2e-570b80c08e2d",
   "metadata": {},
   "outputs": [],
   "source": [
    "import re\n",
    "from tiktok_downloader import *"
   ]
  },
  {
   "cell_type": "markdown",
   "id": "f939ded2-3b9a-4802-b749-5a645b474f48",
   "metadata": {},
   "source": [
    "## Checking if the video exist or is removed/private"
   ]
  },
  {
   "cell_type": "code",
   "execution_count": 2,
   "id": "704c866d-8e83-40c4-9976-d8e359d94b35",
   "metadata": {},
   "outputs": [
    {
     "data": {
      "text/plain": [
       "'Available'"
      ]
     },
     "execution_count": 2,
     "metadata": {},
     "output_type": "execute_result"
    }
   ],
   "source": [
    "checkVideoExistence(\"https://www.tiktok.com/@zachking/video/7095025543627705643\")"
   ]
  },
  {
   "cell_type": "code",
   "execution_count": 3,
   "id": "f9043eb7-9ae2-4e68-944d-207e196c1e2d",
   "metadata": {},
   "outputs": [
    {
     "data": {
      "text/plain": [
       "'Video currently unavailable'"
      ]
     },
     "execution_count": 3,
     "metadata": {},
     "output_type": "execute_result"
    }
   ],
   "source": [
    "checkVideoExistence(\"https://www.tiktok.com/@zachking/video/70950254124122511511\")"
   ]
  },
  {
   "cell_type": "markdown",
   "id": "ade40798-7ff6-4b6b-98d6-ab7fb00606ad",
   "metadata": {},
   "source": [
    "## Download videos using video_url"
   ]
  },
  {
   "cell_type": "code",
   "execution_count": 4,
   "id": "92963914-bc27-41b8-a927-486d02ebe212",
   "metadata": {},
   "outputs": [
    {
     "name": "stdout",
     "output_type": "stream",
     "text": [
      "username: zachking, id: 7095025543627705643\n"
     ]
    }
   ],
   "source": [
    "## extract username and id from the url\n",
    "\n",
    "url = \"https://www.tiktok.com/@zachking/video/7095025543627705643\"\n",
    "\n",
    "pattern = r'https://www.tiktok.com/@([^/]+)/video/(\\d+)'\n",
    "\n",
    "match = re.search(pattern, url)\n",
    "\n",
    "username = match.group(1)\n",
    "id = match.group(2)\n",
    "\n",
    "print(f'username: {username}, id: {id}')"
   ]
  },
  {
   "cell_type": "code",
   "execution_count": 5,
   "id": "76edb5e3-026c-42da-9b55-b86dc4b22ab9",
   "metadata": {},
   "outputs": [
    {
     "name": "stdout",
     "output_type": "stream",
     "text": [
      "Downloading video\n",
      "Completed downloading video. Time taken: 11.51 seconds\n"
     ]
    }
   ],
   "source": [
    "download_start_time = time.time()\n",
    "\n",
    "print(f\"Downloading video\")\n",
    "\n",
    "downloadVideo(url, id, username)\n",
    "\n",
    "download_end_time = time.time() \n",
    "download_elapsed_time = download_end_time - download_start_time  # Calculate elapsed time for the download\n",
    "print(f\"Completed downloading video. Time taken: {download_elapsed_time:.2f} seconds\")"
   ]
  }
 ],
 "metadata": {
  "kernelspec": {
   "display_name": "Python 3 (ipykernel)",
   "language": "python",
   "name": "python3"
  },
  "language_info": {
   "codemirror_mode": {
    "name": "ipython",
    "version": 3
   },
   "file_extension": ".py",
   "mimetype": "text/x-python",
   "name": "python",
   "nbconvert_exporter": "python",
   "pygments_lexer": "ipython3",
   "version": "3.8.12"
  }
 },
 "nbformat": 4,
 "nbformat_minor": 5
}
